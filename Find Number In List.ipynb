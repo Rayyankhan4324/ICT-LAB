{
 "cells": [
  {
   "cell_type": "code",
   "execution_count": 4,
   "metadata": {},
   "outputs": [
    {
     "name": "stdout",
     "output_type": "stream",
     "text": [
      "The Number Is Found In The List 10\n",
      "The Index Of Founded Number Is:  9\n"
     ]
    }
   ],
   "source": [
    "a=[1,2,3,4,5,6,7,8,9,10]\n",
    "b=int(input(\"Enter The Number You Want To Know: \"))\n",
    "c= a.index(b)\n",
    "if b in a:\n",
    "    print(\"The Number Is Found In The List\",b)\n",
    "else:\n",
    "    print(\"The Number Is Not Found In The List\")\n",
    "print(\"The Index Of Founded Number Is: \",c)\n"
   ]
  }
 ],
 "metadata": {
  "kernelspec": {
   "display_name": "Python 3",
   "language": "python",
   "name": "python3"
  },
  "language_info": {
   "codemirror_mode": {
    "name": "ipython",
    "version": 3
   },
   "file_extension": ".py",
   "mimetype": "text/x-python",
   "name": "python",
   "nbconvert_exporter": "python",
   "pygments_lexer": "ipython3",
   "version": "3.13.0"
  }
 },
 "nbformat": 4,
 "nbformat_minor": 2
}
