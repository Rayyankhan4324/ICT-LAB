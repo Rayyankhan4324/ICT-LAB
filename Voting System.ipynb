{
 "cells": [
  {
   "cell_type": "code",
   "execution_count": null,
   "metadata": {},
   "outputs": [
    {
     "name": "stdout",
     "output_type": "stream",
     "text": [
      "Votes Of Nawaz Are: 2\n",
      "Votes Of Nawaz Are: 18\n",
      "Imran Won By Votes:  18\n"
     ]
    }
   ],
   "source": [
    "imran=0\n",
    "nawaz=0\n",
    "total_votes=20\n",
    "for x in range(20):\n",
    "    a=input(\"Please Enter 'imran' OR 'nawaz'\")\n",
    "    if a ==\"imran\":\n",
    "        imran+=1\n",
    "        total_votes-=1\n",
    "    elif a ==\"nawaz\":\n",
    "        nawaz+=1\n",
    "        total_votes-=1\n",
    "print(\"Votes Of Nawaz Are:\",nawaz)\n",
    "print(\"Votes Of Imran Are:\",imran)\n",
    "if imran > nawaz:\n",
    "    print(\"Imran Won By Votes: \",imran)\n",
    "elif nawaz > imran:\n",
    "    print(\"Nawaz Won By Votes: \",nawaz)\n",
    "\n"
   ]
  }
 ],
 "metadata": {
  "kernelspec": {
   "display_name": "Python 3",
   "language": "python",
   "name": "python3"
  },
  "language_info": {
   "codemirror_mode": {
    "name": "ipython",
    "version": 3
   },
   "file_extension": ".py",
   "mimetype": "text/x-python",
   "name": "python",
   "nbconvert_exporter": "python",
   "pygments_lexer": "ipython3",
   "version": "3.13.0"
  }
 },
 "nbformat": 4,
 "nbformat_minor": 2
}
