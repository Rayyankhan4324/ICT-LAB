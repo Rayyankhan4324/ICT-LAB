{
 "cells": [
  {
   "cell_type": "code",
   "execution_count": 1,
   "metadata": {},
   "outputs": [
    {
     "data": {
      "text/plain": [
       "100.0"
      ]
     },
     "execution_count": 1,
     "metadata": {},
     "output_type": "execute_result"
    }
   ],
   "source": [
    "def percentage(a,b,c):\n",
    "    sum=a+b+c\n",
    "    average=sum*100/300\n",
    "    return average\n",
    "percentage(100,100,100)"
   ]
  },
  {
   "cell_type": "code",
   "execution_count": 2,
   "metadata": {},
   "outputs": [
    {
     "name": "stdout",
     "output_type": "stream",
     "text": [
      "The Minimum Number is: 30\n"
     ]
    }
   ],
   "source": [
    "def min(a,b,c):\n",
    "    if a < b and c:\n",
    "        print(\"The Minimum Number is:\",a)\n",
    "    elif b < c and a:\n",
    "        print(\"The Minimum Number is:\",b)\n",
    "    elif c < a and b:\n",
    "        print(\"The Minimum Number is:\",c)\n",
    "min(30,40,60)"
   ]
  },
  {
   "cell_type": "code",
   "execution_count": 3,
   "metadata": {},
   "outputs": [
    {
     "name": "stdout",
     "output_type": "stream",
     "text": [
      "The Maximum Number is: 60\n"
     ]
    }
   ],
   "source": [
    "def max(a,b,c):\n",
    "    if a > b and c:\n",
    "        print(\"The Maximum Number is:\",a)\n",
    "    elif b > c and a:\n",
    "        print(\"The Maximum Number is:\",b)\n",
    "    elif c > a and b:\n",
    "        print(\"The Maximum Number is:\",c)\n",
    "max(30,40,60)\n",
    " "
   ]
  }
 ],
 "metadata": {
  "kernelspec": {
   "display_name": "Python 3",
   "language": "python",
   "name": "python3"
  },
  "language_info": {
   "codemirror_mode": {
    "name": "ipython",
    "version": 3
   },
   "file_extension": ".py",
   "mimetype": "text/x-python",
   "name": "python",
   "nbconvert_exporter": "python",
   "pygments_lexer": "ipython3",
   "version": "3.13.0"
  }
 },
 "nbformat": 4,
 "nbformat_minor": 2
}
