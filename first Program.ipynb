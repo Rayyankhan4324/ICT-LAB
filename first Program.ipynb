{
 "cells": [
  {
   "cell_type": "code",
   "execution_count": null,
   "metadata": {},
   "outputs": [],
   "source": [
    "balance=100\n",
    "while True:\n",
    "    operation=input(\"Enter C, D, W\")\n",
    "    if operation==\"C\":\n",
    "        print(\"The Current Balance Is: \",balance)\n",
    "    elif operation==\"D\":\n",
    "        deposit=int(input(\"Enter The Amount You Want To Deposit: \"))\n",
    "        if balance>= 0 and deposit>0:\n",
    "            balance+= deposit\n",
    "            print(\"Your New Balance is: \",balance)\n",
    "        else:\n",
    "            print(\"Error\")\n",
    "    elif operation==\"W\":\n",
    "        withdraw=int(input(\"Enter The Amount You want To Withdraw: \"))\n",
    "        if balance>=withdraw and withdraw>0:\n",
    "            balance-= withdraw\n",
    "            print(\"Your Withdrawed Balance Is\",balance)\n",
    "        else:\n",
    "            print(\"ERROR JJ\")\n",
    "    else:\n",
    "        print(\"ERROR\")"
   ]
  },
  {
   "cell_type": "code",
   "execution_count": 7,
   "metadata": {},
   "outputs": [
    {
     "name": "stdout",
     "output_type": "stream",
     "text": [
      "['Apple', 'Cherry', 'Bunana']\n"
     ]
    }
   ],
   "source": [
    "list=[\"Apple\",\"Cherry\",\"Bunana\"]\n",
    "print(list)"
   ]
  },
  {
   "cell_type": "code",
   "execution_count": 6,
   "metadata": {},
   "outputs": [
    {
     "name": "stdout",
     "output_type": "stream",
     "text": [
      "3\n"
     ]
    }
   ],
   "source": [
    "list=[\"Apple\",\"Cherry\",\"Bunana\"]\n",
    "print(len(list))"
   ]
  },
  {
   "cell_type": "code",
   "execution_count": 10,
   "metadata": {},
   "outputs": [
    {
     "name": "stdout",
     "output_type": "stream",
     "text": [
      "['Apple', 'Cherry', 'Bunana']\n",
      "['123', '456', '789']\n",
      "[True, False, True]\n"
     ]
    }
   ],
   "source": [
    "list_1=[\"Apple\",\"Cherry\",\"Bunana\"]\n",
    "list_2=[\"123\",\"456\",\"789\"]\n",
    "list_3=[True,False, True]\n",
    "print(list_1)\n",
    "print(list_2)\n",
    "print(list_3)"
   ]
  },
  {
   "cell_type": "code",
   "execution_count": 13,
   "metadata": {},
   "outputs": [
    {
     "name": "stdout",
     "output_type": "stream",
     "text": [
      "['Apple', 6, True, 60, 'Adnan']\n"
     ]
    }
   ],
   "source": [
    "list=[\"Apple\" ,6 , True , 60 , \"Adnan\"]\n",
    "print(list)"
   ]
  },
  {
   "cell_type": "code",
   "execution_count": 16,
   "metadata": {},
   "outputs": [
    {
     "name": "stdout",
     "output_type": "stream",
     "text": [
      "Apple\n"
     ]
    }
   ],
   "source": [
    "list=[\"Apple\",\"Cherry\",\"Bunana\"]\n",
    "print(list[0])"
   ]
  },
  {
   "cell_type": "code",
   "execution_count": 23,
   "metadata": {},
   "outputs": [
    {
     "name": "stdout",
     "output_type": "stream",
     "text": [
      "['Bunana', 'Orange', 'Kiwi', 'Mango']\n"
     ]
    }
   ],
   "source": [
    "list=[\"Apple\", \"Cherry\", \"Bunana\", \"Orange\", \"Kiwi\", \"Mango\"]\n",
    "print(list[2:6])"
   ]
  },
  {
   "cell_type": "code",
   "execution_count": 25,
   "metadata": {},
   "outputs": [
    {
     "name": "stdout",
     "output_type": "stream",
     "text": [
      "['Apple', 'Cherry', 'Bunana', 'Orange', 'Kiwi', 'Mango']\n"
     ]
    }
   ],
   "source": [
    "list=[\"Apple\", \"Cherry\", \"Bunana\", \"Orange\", \"Kiwi\", \"Mango\"]\n",
    "print(list[0:])"
   ]
  }
 ],
 "metadata": {
  "kernelspec": {
   "display_name": "Python 3",
   "language": "python",
   "name": "python3"
  },
  "language_info": {
   "codemirror_mode": {
    "name": "ipython",
    "version": 3
   },
   "file_extension": ".py",
   "mimetype": "text/x-python",
   "name": "python",
   "nbconvert_exporter": "python",
   "pygments_lexer": "ipython3",
   "version": "3.13.0"
  }
 },
 "nbformat": 4,
 "nbformat_minor": 2
}
