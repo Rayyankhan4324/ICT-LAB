{
 "cells": [
  {
   "cell_type": "code",
   "execution_count": 19,
   "metadata": {},
   "outputs": [
    {
     "name": "stdout",
     "output_type": "stream",
     "text": [
      "1 , 7\n",
      "3 , 8\n",
      "5 , 9\n",
      "[(1, 7), (3, 8), (5, 9)]\n"
     ]
    }
   ],
   "source": [
    "list_1=[1,2,3,4,5,6]\n",
    "list_2=[7,2,8,4,9,6]\n",
    "a=[]\n",
    "for x in range(len(list_1)):\n",
    "    if list_1[x]!=list_2[x]:\n",
    "        print(list_1[x],\",\",list_2[x])\n",
    "        a.append((list_1[x],list_2[x]))\n",
    "print(a)"
   ]
  },
  {
   "cell_type": "code",
   "execution_count": 20,
   "metadata": {},
   "outputs": [
    {
     "name": "stdout",
     "output_type": "stream",
     "text": [
      "2 , 2\n",
      "4 , 4\n",
      "6 , 6\n",
      "[(2, 2), (4, 4), (6, 6)]\n"
     ]
    }
   ],
   "source": [
    "list_1=[1,2,3,4,5,6]\n",
    "list_2=[7,2,8,4,9,6]\n",
    "a=[]\n",
    "for x in range(len(list_1)):\n",
    "    if list_1[x]==list_2[x]:\n",
    "        print(list_1[x],\",\",list_2[x])\n",
    "        a.append((list_1[x],list_2[x]))\n",
    "print(a)"
   ]
  },
  {
   "cell_type": "code",
   "execution_count": 27,
   "metadata": {},
   "outputs": [
    {
     "name": "stdout",
     "output_type": "stream",
     "text": [
      "1 , a\n",
      "2 , b\n",
      "3 , c\n",
      "4 , d\n",
      "5 , e\n",
      "6 , f\n",
      "[(1, 'a'), (2, 'b'), (3, 'c'), (4, 'd'), (5, 'e'), (6, 'f')]\n"
     ]
    }
   ],
   "source": [
    "list_1=[1,2,3,4,5,6]\n",
    "list_2=[\"a\",\"b\",\"c\",\"d\",\"e\",\"f\"]\n",
    "a=[]\n",
    "for x in range(len(list_1)):\n",
    "    list_1[x]==list_2[x]\n",
    "    print(list_1[x],\",\",list_2[x])\n",
    "    a.append((list_1[x],list_2[x]))\n",
    "print(a)\n"
   ]
  }
 ],
 "metadata": {
  "kernelspec": {
   "display_name": "Python 3",
   "language": "python",
   "name": "python3"
  },
  "language_info": {
   "codemirror_mode": {
    "name": "ipython",
    "version": 3
   },
   "file_extension": ".py",
   "mimetype": "text/x-python",
   "name": "python",
   "nbconvert_exporter": "python",
   "pygments_lexer": "ipython3",
   "version": "3.13.0"
  }
 },
 "nbformat": 4,
 "nbformat_minor": 2
}
