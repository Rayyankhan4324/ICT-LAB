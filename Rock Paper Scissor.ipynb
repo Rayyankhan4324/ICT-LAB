{
 "cells": [
  {
   "cell_type": "code",
   "execution_count": null,
   "metadata": {},
   "outputs": [],
   "source": [
    "#ROCK PAPER SCISSOR GAME\n",
    "choice_1=str(input(\"PLAYER 1 Enter Your Sign in small letters: \"))\n",
    "choice_2=str(input(\"PLAYER 2 Enter Your Sign in small letters: \"))\n",
    "if choice_1 == \"rock\" and choice_2 == \"paper\":\n",
    "    print(\"Player 1(paper) Won\")\n",
    "elif choice_1 == \"paper\" and choice_2 == \"rock\":\n",
    "    print(\"player 2(paper) won\")\n",
    "elif choice_1 == \"paper\" and choice_2 == \"scissor\":\n",
    "    print(\"player 2(scissor) Won\")\n",
    "elif choice_1 == \"scissor\" and choice_2 == \"paper\":\n",
    "    print(\"player 1(scissor) Won\")\n",
    "elif choice_1 == \"scissor\" and choice_2 == \"rock\":\n",
    "    print(\"player 2(rock) Won\")\n",
    "elif choice_1 == \"rock\" and choice_2 == \"scissor\":\n",
    "    print(\"player 1(rock) Won\")\n",
    "elif choice_1 == \"paper\" and choice_2 == \"paper\":\n",
    "    print(\"Match is draw\")\n",
    "elif choice_1 == \"scissor\" and choice_2 == \"scissor\":\n",
    "    print(\"Match is draw\")\n",
    "elif choice_1 == \"rock\" and choice_2 == \"rock\":\n",
    "    print(\"Match is DRAW\")\n",
    "print(\"Thanks!\")"
   ]
  },
  {
   "cell_type": "code",
   "execution_count": null,
   "metadata": {},
   "outputs": [],
   "source": [
    "total_marks=int(input(\"Enter Total Marks =\"))\n",
    "eng=int(input(\"Marks Obtained In ENGLISH =\"))\n",
    "urdu=int(input(\"Marks Obtained In URDU =\"))\n",
    "math=int(input(\"Marks Obtained In MAth =\"))\n",
    "phy=int(input(\"Marks Obtained In PHYSICS =\"))\n",
    "bio=int(input(\"Marks Obtained In BIOLOGY =\"))\n",
    "obtained_marks=(eng+urdu+math+phy+bio)\n",
    "percentage=(obtained_marks/total_marks*100)\n",
    "if percentage>=90:\n",
    "    print(\"You got A+ Grade\")\n",
    "elif percentage>=80:\n",
    "    print(\"You got A Grade\")\n",
    "elif percentage>=70:\n",
    "    print(\"You got B Grade\")\n",
    "elif percentage>=50:\n",
    "    print(\"You Got C Grade\")\n",
    "elif percentage<50:\n",
    "    print(\"You Are Failed\")\n",
    "print(\"Your Percentage Is: \",\"%.2f\" % percentage)"
   ]
  },
  {
   "cell_type": "code",
   "execution_count": null,
   "metadata": {},
   "outputs": [],
   "source": [
    "#ROCK PAPER SCISSOR GAME\n",
    "choice_1=str(input(\" PLAYER 1 Enter Your Sign in small letters: \"))\n",
    "choice_2=str(input(\"PLAYER 2 Enter Your Sign in small letters: \"))\n",
    "if choice_1 == \"rock\" and choice_2 == \"paper\":\n",
    "    print(\"Player 1(paper) Won\")\n",
    "else: \n",
    "    if choice_1 == \"paper\" and choice_2 == \"rock\":\n",
    "        print(\"player 2(paper) won\")\n",
    "    else: \n",
    "        if choice_1 == \"paper\" and choice_2 == \"scissor\":\n",
    "            print(\"player 2(scissor) Won\")\n",
    "        else: \n",
    "            if choice_1 == \"scissor\" and choice_2 == \"paper\":\n",
    "                print(\"player 1(scissor) Won\")\n",
    "            else: \n",
    "                if choice_1 == \"scissor\" and choice_2 == \"rock\":\n",
    "                    print(\"player 2(rock) Won\")\n",
    "                else:\n",
    "                    if choice_1 == \"rock\" and choice_2 == \"scissor\":\n",
    "                        print(\"player 1(rock) Won\")\n",
    "                    else: \n",
    "                        if choice_1 == \"paper\" and choice_2 == \"paper\":\n",
    "                            print(\"Match is draw\")\n",
    "                        else: \n",
    "                            if choice_1 == \"scissor\" and choice_2 == \"scissor\":\n",
    "                                print(\"Match is draw\")\n",
    "                            else: \n",
    "                                if choice_1 == \"rock\" and choice_2 == \"rock\":\n",
    "                                    print(\"Match is DRAW\")\n",
    "print(\"Thanks!\")"
   ]
  },
  {
   "cell_type": "code",
   "execution_count": null,
   "metadata": {},
   "outputs": [],
   "source": [
    "#ROCK PAPER SCISSOR GAME\n",
    "choice_1=str(input(\"Enter Your Sign in small letters: \"))\n",
    "choice_2=str(input(\"Enter Your Sign in small letters: \"))\n",
    "if choice_1 == choice_2:\n",
    "    print(\"Match is a draw\")\n",
    "elif (choice_1 == \"rock\" and choice_2 == \"scissor\") or \\\n",
    "     (choice_1 == \"scissor\" and choice_2 == \"paper\") or \\\n",
    "     (choice_1 == \"paper\" and choice_2 == \"rock\"):\n",
    "    print(\"Player 1 ({}) wins\".format(choice_1.capitalize()))\n",
    "elif (choice_2 == \"rock\" and choice_1 == \"scissor\") or \\\n",
    "     (choice_2 == \"scissor\" and choice_1 == \"paper\") or \\\n",
    "     (choice_2 == \"paper\" and choice_1 == \"rock\"):\n",
    "    print(\"Player 2 ({}) wins\".format(choice_2.capitalize()))\n",
    "else:\n",
    "    print(\"Invalid input! Please enter rock, paper, or scissor.\")\n",
    "print(\"Thanks for playing!\")"
   ]
  }
 ],
 "metadata": {
  "kernelspec": {
   "display_name": "Python 3",
   "language": "python",
   "name": "python3"
  },
  "language_info": {
   "name": "python",
   "version": "3.13.0"
  }
 },
 "nbformat": 4,
 "nbformat_minor": 2
}
